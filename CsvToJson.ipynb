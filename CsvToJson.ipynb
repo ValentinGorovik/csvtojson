{
 "cells": [
  {
   "cell_type": "code",
   "execution_count": 1,
   "id": "1cbef849",
   "metadata": {},
   "outputs": [],
   "source": [
    "import pandas as pd\n",
    "import json\n",
    "from datetime import datetime\n"
   ]
  },
  {
   "cell_type": "code",
   "execution_count": 2,
   "id": "61067e46",
   "metadata": {},
   "outputs": [],
   "source": [
    "df=pd.read_csv('D:\\CSVtoJSON\\csv.csv')"
   ]
  },
  {
   "cell_type": "code",
   "execution_count": 3,
   "id": "a2e40da8",
   "metadata": {},
   "outputs": [],
   "source": [
    "df1 = df.drop_duplicates(\n",
    "  subset = ['click_id', 'click_timestamp'],\n",
    "  keep = 'last').reset_index(drop = True)"
   ]
  },
  {
   "cell_type": "code",
   "execution_count": 4,
   "id": "23f31487",
   "metadata": {},
   "outputs": [
    {
     "data": {
      "text/plain": [
       "click_id            int64\n",
       "click_timestamp    object\n",
       "dtype: object"
      ]
     },
     "execution_count": 4,
     "metadata": {},
     "output_type": "execute_result"
    }
   ],
   "source": [
    "df1.dtypes"
   ]
  },
  {
   "cell_type": "code",
   "execution_count": 5,
   "id": "53f3de3a",
   "metadata": {},
   "outputs": [],
   "source": [
    "df1['time'] = pd.to_datetime(df1['click_timestamp'], errors='coerce')"
   ]
  },
  {
   "cell_type": "code",
   "execution_count": 6,
   "id": "7f693677",
   "metadata": {},
   "outputs": [
    {
     "data": {
      "text/html": [
       "<div>\n",
       "<style scoped>\n",
       "    .dataframe tbody tr th:only-of-type {\n",
       "        vertical-align: middle;\n",
       "    }\n",
       "\n",
       "    .dataframe tbody tr th {\n",
       "        vertical-align: top;\n",
       "    }\n",
       "\n",
       "    .dataframe thead th {\n",
       "        text-align: right;\n",
       "    }\n",
       "</style>\n",
       "<table border=\"1\" class=\"dataframe\">\n",
       "  <thead>\n",
       "    <tr style=\"text-align: right;\">\n",
       "      <th></th>\n",
       "      <th>click_id</th>\n",
       "      <th>click_timestamp</th>\n",
       "      <th>time</th>\n",
       "    </tr>\n",
       "  </thead>\n",
       "  <tbody>\n",
       "    <tr>\n",
       "      <th>3</th>\n",
       "      <td>4</td>\n",
       "      <td>1/1/2023]</td>\n",
       "      <td>NaT</td>\n",
       "    </tr>\n",
       "    <tr>\n",
       "      <th>16</th>\n",
       "      <td>18</td>\n",
       "      <td>1/1/2023]</td>\n",
       "      <td>NaT</td>\n",
       "    </tr>\n",
       "    <tr>\n",
       "      <th>47</th>\n",
       "      <td>55</td>\n",
       "      <td>1/5/2023]</td>\n",
       "      <td>NaT</td>\n",
       "    </tr>\n",
       "    <tr>\n",
       "      <th>91</th>\n",
       "      <td>100</td>\n",
       "      <td>1/8/2023]]</td>\n",
       "      <td>NaT</td>\n",
       "    </tr>\n",
       "    <tr>\n",
       "      <th>128</th>\n",
       "      <td>137</td>\n",
       "      <td>1/9/20233</td>\n",
       "      <td>NaT</td>\n",
       "    </tr>\n",
       "    <tr>\n",
       "      <th>129</th>\n",
       "      <td>138</td>\n",
       "      <td>1/9/20233</td>\n",
       "      <td>NaT</td>\n",
       "    </tr>\n",
       "    <tr>\n",
       "      <th>134</th>\n",
       "      <td>143</td>\n",
       "      <td>1/9/20233</td>\n",
       "      <td>NaT</td>\n",
       "    </tr>\n",
       "    <tr>\n",
       "      <th>142</th>\n",
       "      <td>151</td>\n",
       "      <td>1/9/20233</td>\n",
       "      <td>NaT</td>\n",
       "    </tr>\n",
       "  </tbody>\n",
       "</table>\n",
       "</div>"
      ],
      "text/plain": [
       "     click_id click_timestamp time\n",
       "3           4       1/1/2023]  NaT\n",
       "16         18       1/1/2023]  NaT\n",
       "47         55       1/5/2023]  NaT\n",
       "91        100      1/8/2023]]  NaT\n",
       "128       137       1/9/20233  NaT\n",
       "129       138       1/9/20233  NaT\n",
       "134       143       1/9/20233  NaT\n",
       "142       151       1/9/20233  NaT"
      ]
     },
     "execution_count": 6,
     "metadata": {},
     "output_type": "execute_result"
    }
   ],
   "source": [
    "df1[df1['time'].isin(['NaT'])]"
   ]
  },
  {
   "cell_type": "code",
   "execution_count": 7,
   "id": "b8b565ee",
   "metadata": {},
   "outputs": [
    {
     "name": "stderr",
     "output_type": "stream",
     "text": [
      "C:\\Users\\VALIAN~1.HAR\\AppData\\Local\\Temp/ipykernel_12276/3947088725.py:1: FutureWarning: The default value of regex will change from True to False in a future version. In addition, single character regular expressions will *not* be treated as literal strings when regex=True.\n",
      "  df1['click_timestamp']=df1['click_timestamp'].str.replace(']','').str.replace('20233','2023')\n"
     ]
    }
   ],
   "source": [
    "df1['click_timestamp']=df1['click_timestamp'].str.replace(']','').str.replace('20233','2023')"
   ]
  },
  {
   "cell_type": "code",
   "execution_count": 8,
   "id": "eba113e1",
   "metadata": {},
   "outputs": [],
   "source": [
    "final_csv=df1[['click_id','click_timestamp']].rename(columns={\"click_id\": \"count\", \"click_timestamp\": \"date\"})"
   ]
  },
  {
   "cell_type": "code",
   "execution_count": 9,
   "id": "0ef83de2",
   "metadata": {},
   "outputs": [],
   "source": [
    "final_csv=final_csv.groupby('date').count().reset_index()"
   ]
  },
  {
   "cell_type": "code",
   "execution_count": 10,
   "id": "d9975553",
   "metadata": {},
   "outputs": [],
   "source": [
    "final_csv=final_csv.sort_values(by='date', ascending=True)"
   ]
  },
  {
   "cell_type": "code",
   "execution_count": 11,
   "id": "af7ad2a2",
   "metadata": {},
   "outputs": [],
   "source": [
    "final_csv['date'] = pd.to_datetime(final_csv['date'], errors='coerce')"
   ]
  },
  {
   "cell_type": "code",
   "execution_count": 12,
   "id": "a70677fe",
   "metadata": {},
   "outputs": [],
   "source": [
    "final_csv['date']=final_csv['date'].astype(str)"
   ]
  },
  {
   "cell_type": "code",
   "execution_count": 13,
   "id": "65ecb7b2",
   "metadata": {},
   "outputs": [],
   "source": [
    "final_csv.to_json('D:\\CSVtoJSON\\example.json',orient='records')"
   ]
  },
  {
   "cell_type": "code",
   "execution_count": null,
   "id": "16ed8aab",
   "metadata": {},
   "outputs": [],
   "source": []
  },
  {
   "cell_type": "code",
   "execution_count": null,
   "id": "11f7a3da",
   "metadata": {},
   "outputs": [],
   "source": []
  }
 ],
 "metadata": {
  "kernelspec": {
   "display_name": "Python 3 (ipykernel)",
   "language": "python",
   "name": "python3"
  },
  "language_info": {
   "codemirror_mode": {
    "name": "ipython",
    "version": 3
   },
   "file_extension": ".py",
   "mimetype": "text/x-python",
   "name": "python",
   "nbconvert_exporter": "python",
   "pygments_lexer": "ipython3",
   "version": "3.9.7"
  }
 },
 "nbformat": 4,
 "nbformat_minor": 5
}
